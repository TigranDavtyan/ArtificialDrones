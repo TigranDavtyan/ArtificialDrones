{
 "cells": [
  {
   "cell_type": "code",
   "execution_count": 1,
   "metadata": {
    "code_folding": [
     12,
     33,
     67,
     71
    ]
   },
   "outputs": [
    {
     "name": "stdout",
     "output_type": "stream",
     "text": [
      "Number of drones  11\n",
      "Kpa urishin\n",
      "Kpa urishin\n",
      "Chaperic durs eka\n",
      "Kpav!!!\n",
      "Kpav!!!\n",
      "Kpav!!!\n",
      "Chaperic durs eka\n",
      "Chaperic durs eka\n",
      "Blue wins\n"
     ]
    }
   ],
   "source": [
    "import cv2\n",
    "import time\n",
    "import numpy as np\n",
    "import keyboard\n",
    "import Drone\n",
    "\n",
    "def normalise_position(pos):\n",
    "    return [(pos[0]/field.shape[1])*2-1,(pos[1]/field.shape[0])*2-1,pos[2]/180-1]\n",
    "            \n",
    "class Game:\n",
    "    def __init__(self):\n",
    "        self.base = np.ones((1000,1500,3),np.uint8)*235\n",
    "        self.field = self.base.copy()\n",
    "        self.presentation = True\n",
    "        self.bullets = []\n",
    "    \n",
    "        self.drones = [Drone.Drone([500,i*100+500,0],'blue',i,self) for i in range(0,1)]\n",
    "        self.drones.extend( [Drone.Drone([1000,i*100,180],'red',i+10,self) for i in range(0,10)] )\n",
    "        print('Number of drones ',len(self.drones))\n",
    "    \n",
    "    def update(self):\n",
    "        self.field = self.base.copy()\n",
    "        \n",
    "        for drone in self.drones:\n",
    "            if not drone.exists:\n",
    "                continue\n",
    "            drone.update()\n",
    "            if self.presentation:\n",
    "                drone.show(self.field)\n",
    "        if len(self.bullets) > 0:\n",
    "            [drone.check_bullet_collision() for drone in self.drones if drone.exists]\n",
    "            \n",
    "        nred,nblue = [drone.colour for drone in self.drones if drone.exists].count('red'),[drone.colour for drone in self.drones if drone.exists].count('blue')\n",
    "        if nred == 0 and nblue > 0:\n",
    "            print('Blue wins')\n",
    "            return 'END'\n",
    "        elif nred>0 and nblue == 0:\n",
    "            print('Red wins')\n",
    "            return 'END'\n",
    "        elif nred == nblue == 0:\n",
    "            print('Nichya')\n",
    "            return 'END'\n",
    "\n",
    "        if self.presentation:\n",
    "            for bullet in self.bullets:\n",
    "                cv2.line(self.field,(int(bullet[0]),int(bullet[1])),(int(bullet[0])+int(2000*np.cos(bullet[2]*np.pi/180)),int(bullet[1])-int(2000*np.sin(bullet[2]*np.pi/180))),(0,0,0),3)\n",
    "            self.bullets = []\n",
    "            \n",
    "            cv2.putText(self.field,'Red {}'.format(nred),(self.field.shape[1]-100,30),cv2.FONT_HERSHEY_SIMPLEX,1,(0,0,255),2,cv2.LINE_AA)\n",
    "            cv2.putText(self.field,'Blue {}'.format(nblue),(30,30),cv2.FONT_HERSHEY_SIMPLEX,1,(255,0,0),2,cv2.LINE_AA)\n",
    "            cv2.imshow('Battlefield',self.field)\n",
    "        return ''\n",
    "    def play(self):\n",
    "        while True:\n",
    "            if self.update() == 'END':\n",
    "                break\n",
    "            \n",
    "game = Game()\n",
    "game.play()\n",
    "cv2.destroyAllWindows()"
   ]
  },
  {
   "cell_type": "code",
   "execution_count": 4,
   "metadata": {},
   "outputs": [
    {
     "data": {
      "text/plain": [
       "[97.01000000000042,\n",
       " 71.05500000000254,\n",
       " 88.27000000000103,\n",
       " 88.76500000000101,\n",
       " 91.58000000000075,\n",
       " 91.85500000000071,\n",
       " 61.250000000003325,\n",
       " 46.71000000000382,\n",
       " 45.81500000000383,\n",
       " 76.2500000000022,\n",
       " 29.300000000004314]"
      ]
     },
     "execution_count": 4,
     "metadata": {},
     "output_type": "execute_result"
    }
   ],
   "source": [
    "[drone.energy for drone in game.drones]"
   ]
  },
  {
   "cell_type": "code",
   "execution_count": null,
   "metadata": {},
   "outputs": [],
   "source": []
  }
 ],
 "metadata": {
  "kernelspec": {
   "display_name": "Python 3",
   "language": "python",
   "name": "python3"
  },
  "language_info": {
   "codemirror_mode": {
    "name": "ipython",
    "version": 3
   },
   "file_extension": ".py",
   "mimetype": "text/x-python",
   "name": "python",
   "nbconvert_exporter": "python",
   "pygments_lexer": "ipython3",
   "version": "3.6.4"
  }
 },
 "nbformat": 4,
 "nbformat_minor": 2
}
